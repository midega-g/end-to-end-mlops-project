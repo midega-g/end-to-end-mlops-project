{
 "cells": [
  {
   "cell_type": "code",
   "execution_count": 1,
   "metadata": {},
   "outputs": [],
   "source": [
    "from mlops.util_funcs import clean_data, transform_data, eval_metrics_logs\n",
    "from mlops.project_libraries import *"
   ]
  },
  {
   "cell_type": "markdown",
   "metadata": {},
   "source": [
    "##########################    READING IN DATASETS    ##########################"
   ]
  },
  {
   "cell_type": "code",
   "execution_count": 2,
   "metadata": {},
   "outputs": [],
   "source": [
    "# import training and testing features\n",
    "df_train = pd.read_csv(\"../data/training_features.csv\")\n",
    "df_test = pd.read_csv(\"../data/testing_features.csv\")"
   ]
  },
  {
   "cell_type": "code",
   "execution_count": 3,
   "metadata": {},
   "outputs": [],
   "source": [
    "# importing training and testing targets\n",
    "y_train = pd.read_csv(\"../data/training_targets.csv\")\n",
    "y_test = pd.read_csv(\"../data/testing_targets.csv\")\n",
    "\n",
    "# converting the data to arrays\n",
    "y_train = y_train.values.ravel()\n",
    "y_test = y_test.values.ravel()"
   ]
  },
  {
   "cell_type": "code",
   "execution_count": 4,
   "metadata": {},
   "outputs": [],
   "source": [
    "# clean and preprocess the data\n",
    "train_clean = clean_data(df_train)\n",
    "test_clean = clean_data(df_test)"
   ]
  },
  {
   "cell_type": "code",
   "execution_count": 5,
   "metadata": {},
   "outputs": [],
   "source": [
    "# normalize and fill null values\n",
    "train_norm = transform_data(train_clean)\n",
    "test_norm = transform_data(test_clean)"
   ]
  },
  {
   "cell_type": "code",
   "execution_count": 6,
   "metadata": {},
   "outputs": [],
   "source": [
    "# dataframe to dictionary\n",
    "train_dict = train_norm.to_dict(orient='records')\n",
    "val_dict = test_norm.to_dict(orient='records')"
   ]
  },
  {
   "cell_type": "markdown",
   "metadata": {},
   "source": [
    "model_docker = make_pipeline(\n",
    "    DictVectorizer(),\n",
    "    LogisticRegression()\n",
    ")\n",
    "\n",
    "model_docker.fit(train_dict, y_train)"
   ]
  },
  {
   "cell_type": "markdown",
   "metadata": {},
   "source": [
    "with open('model.pkl', 'wb') as file:\n",
    "    pickle.dump(model_docker, file)"
   ]
  },
  {
   "cell_type": "markdown",
   "metadata": {},
   "source": [
    "##########################    SETTING UP REMOTE MLFLOW ENVIRONMENT   ##########################"
   ]
  },
  {
   "cell_type": "code",
   "execution_count": 7,
   "metadata": {},
   "outputs": [
    {
     "name": "stdout",
     "output_type": "stream",
     "text": [
      "tracking URI: 'http://127.0.0.1:5000'\n"
     ]
    }
   ],
   "source": [
    "# fill in AWS profile\n",
    "os.environ[\"AWS_PROFILE\"] = \"demiga-g\"\n",
    "\n",
    "# Setting tracking uri (unique resource identifier)\n",
    "TRACKING_SERVER_HOST = '127.0.0.1' #'13.51.13.52' \n",
    "mlflow.set_tracking_uri(f\"http://{TRACKING_SERVER_HOST}:5000\")\n",
    "\n",
    "# Check validity of url\n",
    "print(f\"tracking URI: '{mlflow.get_tracking_uri()}'\")"
   ]
  },
  {
   "cell_type": "code",
   "execution_count": 8,
   "metadata": {},
   "outputs": [],
   "source": [
    "# Setting experiment\n",
    "mlflow.set_experiment(experiment_name='all-models')\n",
    "\n",
    "# Delete the `Default` experiment\n",
    "expt_id = mlflow.get_experiment_by_name('Default').experiment_id\n",
    "\n",
    "if expt_id == \"0\":\n",
    "    try:\n",
    "        mlflow.delete_experiment(expt_id)\n",
    "    except mlflow.exceptions.MlflowException:\n",
    "        pass\n",
    "else:\n",
    "    print('`Default` deleted...')"
   ]
  },
  {
   "cell_type": "markdown",
   "metadata": {},
   "source": [
    "##########################    LOGGING DEFAULT MODELS    ##########################"
   ]
  },
  {
   "cell_type": "code",
   "execution_count": 9,
   "metadata": {},
   "outputs": [],
   "source": [
    "# random state to use\n",
    "import mlflow.models.signature\n",
    "\n",
    "\n",
    "random_state = np.random.default_rng(0)\n",
    "SEED = 0\n",
    "\n",
    "# dictionary vectorizer to use\n",
    "dv = DictVectorizer(sparse=False)\n",
    "\n",
    "# defining model signature\n",
    "signature = mlflow.models.signature.infer_signature(train_dict, y_train)"
   ]
  },
  {
   "cell_type": "code",
   "execution_count": 10,
   "metadata": {},
   "outputs": [],
   "source": [
    "# defining random state for models\n",
    "svc_config = partial(SVC, random_state=SEED, probability=True)\n",
    "log_reg_config = partial(LogisticRegression, random_state=SEED, max_iter=1500)\n",
    "rfc_config = partial(RandomForestClassifier, random_state=SEED)\n",
    "gbc_config = partial(GradientBoostingClassifier, random_state=SEED)\n",
    "xgb_config = partial(XGBClassifier, random_state=SEED)\n",
    "dtc_config = partial(DecisionTreeClassifier, random_state=SEED)\n",
    "\n",
    "models = [\n",
    "    (svc_config, \"SVC\"),\n",
    "    (log_reg_config, \"LOG-REG\"),\n",
    "    (rfc_config, \"RFC\"),\n",
    "    (gbc_config, \"GBC\"),\n",
    "    (xgb_config, \"XG-BOOST\"),\n",
    "    (dtc_config, \"DTC\"),\n",
    "    (GaussianNB, \"GAUS\")\n",
    "]"
   ]
  },
  {
   "cell_type": "code",
   "execution_count": 11,
   "metadata": {},
   "outputs": [
    {
     "name": "stderr",
     "output_type": "stream",
     "text": [
      "2024/08/18 22:51:44 WARNING mlflow.utils.autologging_utils: MLflow autologging encountered a warning: \"/home/midega-g/anaconda3/envs/ifood_mlops/lib/python3.9/site-packages/_distutils_hack/__init__.py:26: UserWarning: Setuptools is replacing distutils.\"\n"
     ]
    }
   ],
   "source": [
    "# auto-logging scikit-learn models, their parameters, and the dictionary vectorizer\n",
    "\n",
    "mlflow.sklearn.autolog(log_datasets=False)\n",
    "\n",
    "for model_class, model_name in models:\n",
    "  \n",
    "    with mlflow.start_run():\n",
    "      \n",
    "      pipeline = make_pipeline(\n",
    "        dv,\n",
    "        model_class()\n",
    "      )\n",
    "\n",
    "      pipeline.fit(train_dict, y_train)\n",
    "      y_pred = pipeline.predict(val_dict)\n",
    "      \n",
    "      eval_metrics_logs(y_test, y_pred.round())\n",
    "      \n",
    "      # Log the model and the vectorizer in the pipeline as one\n",
    "      mlflow.sklearn.log_model(pipeline, artifact_path='model', signature=signature)"
   ]
  },
  {
   "cell_type": "markdown",
   "metadata": {},
   "source": [
    "##########################    LOGGING TUNED MODELS    ##########################"
   ]
  },
  {
   "cell_type": "markdown",
   "metadata": {},
   "source": [
    "###########   LOGISTIC REGRESSION    ###########"
   ]
  },
  {
   "cell_type": "code",
   "execution_count": 12,
   "metadata": {},
   "outputs": [
    {
     "name": "stderr",
     "output_type": "stream",
     "text": [
      "/home/midega-g/anaconda3/envs/ifood_mlops/lib/python3.9/site-packages/sklearn/linear_model/_sag.py:352: ConvergenceWarning: The max_iter was reached which means the coef_ did not converge\n",
      "  warnings.warn(\n"
     ]
    }
   ],
   "source": [
    "mlflow.set_experiment(\"log-reg\")\n",
    "\n",
    "# objective function for logistic regression\n",
    "def log_reg_objective(params):\n",
    "    with mlflow.start_run():\n",
    "        mlflow.log_params(params)\n",
    "    \n",
    "        # pipeline for logistic regression and vectorizer\n",
    "        pipeline = make_pipeline(dv, log_reg_config(**params))\n",
    "        \n",
    "        pipeline.fit(train_dict, y_train)\n",
    "        y_pred = pipeline.predict(val_dict)\n",
    "        \n",
    "        precision = eval_metrics_logs(y_test, y_pred.round())\n",
    "        \n",
    "        # log the model and the vectorizer as one\n",
    "        mlflow.sklearn.log_model(pipeline, artifact_path='model', signature=signature)\n",
    "        mlflow.sklearn.autolog(disable=True)\n",
    "            \n",
    "    return {'loss': -precision, 'status': STATUS_OK}\n",
    "\n",
    "# define parameters to tune\n",
    "space = {\n",
    "    # e^-20 and e^4\n",
    "    'C': hp.loguniform('C', -20, 4),\n",
    "    'class_weight': hp.choice('class_weight', [None, 'balanced']),\n",
    "    'penalty': hp.choice('penalty', ['l1', 'l2']),\n",
    "    'solver': hp.choice('solver', ['liblinear', 'saga'])\n",
    "}\n",
    "\n",
    "\n",
    "# log in the model to mlflow\n",
    "best_result = fmin(\n",
    "    fn = log_reg_objective,\n",
    "    space = space,\n",
    "    algo = tpe.suggest,\n",
    "    max_evals = 30,\n",
    "    trials = Trials(),\n",
    "    rstate=random_state,\n",
    "    verbose=False\n",
    ")"
   ]
  },
  {
   "cell_type": "markdown",
   "metadata": {},
   "source": [
    "###########   RANDOM FOREST CLASSIFIER    ###########"
   ]
  },
  {
   "cell_type": "code",
   "execution_count": 13,
   "metadata": {},
   "outputs": [],
   "source": [
    "mlflow.set_experiment('rfc')\n",
    "\n",
    "# objective function for random forest classifier\n",
    "def rfc_objective(params):\n",
    "    with mlflow.start_run():\n",
    "        mlflow.log_params(params)\n",
    "        \n",
    "        # pipeline for random forest and vectorizer\n",
    "        pipeline = make_pipeline(dv,rfc_config(**params, n_jobs=-1))\n",
    "        \n",
    "        pipeline.fit(train_dict, y_train)\n",
    "        y_pred = pipeline.predict(val_dict)\n",
    "        \n",
    "        precision = eval_metrics_logs(y_test, y_pred.round())\n",
    "        \n",
    "        # log the model and the vectorizer as one\n",
    "        mlflow.sklearn.log_model(pipeline, artifact_path='model', signature=signature)\n",
    "        mlflow.sklearn.autolog(disable=True)\n",
    "        \n",
    "    return {'loss': -precision, 'status': STATUS_OK}\n",
    "\n",
    "\n",
    "# defining the hyperparameters\n",
    "search_space = {\n",
    "    'n_estimators': scope.int(hp.quniform('n_estimators', 40, 120, 10)),\n",
    "    'criterion': hp.choice('criterion', ['gini', 'entropy']),\n",
    "    'max_depth': scope.int(hp.quniform('max_depth', 10, 50, 10)),   \n",
    "}\n",
    "\n",
    "# logging results into mlflow\n",
    "best_result = fmin(\n",
    "    fn=rfc_objective,\n",
    "    space=search_space,\n",
    "    algo=tpe.suggest,\n",
    "    max_evals=30,\n",
    "    rstate=random_state,\n",
    "    verbose=False\n",
    ")\n"
   ]
  },
  {
   "cell_type": "markdown",
   "metadata": {},
   "source": [
    "###########   SKLEARN GRADIENT BOOSTING CLASSIFIER    ###########"
   ]
  },
  {
   "cell_type": "code",
   "execution_count": null,
   "metadata": {},
   "outputs": [],
   "source": [
    "mlflow.set_experiment('gbc-sklearn')\n",
    "\n",
    "# objective function for sklearn gradient boosting classifier\n",
    "def sgbc_objective(params):\n",
    "    with mlflow.start_run():\n",
    "        mlflow.log_params(params)\n",
    "        \n",
    "        # pipeline for gradient boosting and vectorizer\n",
    "        pipeline = make_pipeline(dv, gbc_config(**params))\n",
    "        \n",
    "        pipeline.fit(train_dict, y_train)\n",
    "        y_pred = pipeline.predict(val_dict)\n",
    "        \n",
    "        precision = eval_metrics_logs(y_test, y_pred.round())\n",
    "        \n",
    "        # log the model and the vectorizer\n",
    "        mlflow.sklearn.log_model(pipeline, artifact_path='model', signature=signature)\n",
    "        mlflow.sklearn.autolog(disable=True)\n",
    "    \n",
    "    return {'loss': -precision,'status': STATUS_OK}\n",
    "\n",
    "# defining the search space\n",
    "search_space = {\n",
    "    'n_estimators': scope.int(hp.quniform('n_estimators', 10, 70, 10)),\n",
    "    'min_samples_split': scope.int(hp.quniform('min_samples_split', 10, 20, 2)), \n",
    "    'min_samples_leaf': scope.int(hp.quniform('min_samples_leaf', 6, 20, 1)), \n",
    "}\n",
    "\n",
    "# logging result into mlflow\n",
    "best_result = fmin(\n",
    "    fn = sgbc_objective,\n",
    "    space = search_space,\n",
    "    algo = tpe.suggest,\n",
    "    max_evals = 30,\n",
    "    trials = Trials(),\n",
    "    rstate=random_state,\n",
    "    verbose=False\n",
    ")"
   ]
  },
  {
   "cell_type": "markdown",
   "metadata": {},
   "source": [
    "###########   SUPPORT VECTOR CLASSIFIER    ###########"
   ]
  },
  {
   "cell_type": "code",
   "execution_count": null,
   "metadata": {},
   "outputs": [],
   "source": [
    "mlflow.set_experiment('svc')\n",
    "\n",
    "# objective function for SVM classifier\n",
    "def svc_objective(params):\n",
    "    with mlflow.start_run():\n",
    "        mlflow.log_params(params)\n",
    "        \n",
    "        # make pipeline with the model and vectorizer\n",
    "        pipeline = make_pipeline(dv, svc_config(**params))\n",
    "        pipeline.fit(train_dict, y_train)\n",
    "        y_pred = pipeline.predict(val_dict)\n",
    "        \n",
    "        precision = eval_metrics_logs(y_test, y_pred.round())\n",
    "        \n",
    "        # log in the model and vectorizer\n",
    "        mlflow.sklearn.log_model(pipeline, artifact_path='model', signature=signature)\n",
    "        mlflow.sklearn.autolog(disable=True)\n",
    "        \n",
    "    return {'loss': -precision, 'status': STATUS_OK}\n",
    "\n",
    "\n",
    "search_space = {\n",
    "    'C': hp.uniform('C', 0, 15),\n",
    "    'kernel': hp.choice('kernel', ['poly', 'rbf', 'sigmoid']), \n",
    "    'degree': scope.int(hp.randint('degree', 1, 12)),\n",
    "    'gamma': hp.choice('gamma', ['scale', 'auto']),\n",
    "}\n",
    "\n",
    "best_result = fmin(\n",
    "    fn=svc_objective,\n",
    "    space=search_space,\n",
    "    algo=tpe.suggest,\n",
    "    max_evals=30,\n",
    "    rstate=random_state,\n",
    "    verbose=False\n",
    ")"
   ]
  },
  {
   "cell_type": "markdown",
   "metadata": {},
   "source": [
    "###########   XGB CLASSIFIER    ###########"
   ]
  },
  {
   "cell_type": "code",
   "execution_count": null,
   "metadata": {},
   "outputs": [],
   "source": [
    "mlflow.set_experiment('xgbc')\n",
    "\n",
    "\n",
    "# objective function for xgboost classifier\n",
    "def xgbc_objective(params):\n",
    "    \n",
    "    with mlflow.start_run():\n",
    "        mlflow.log_params(params)\n",
    "        \n",
    "        # pipeline for xgboost and vectorizer\n",
    "        pipeline = make_pipeline(dv, xgb_config(**params))\n",
    "        \n",
    "        pipeline.fit(train_dict, y_train)\n",
    "        y_pred = pipeline.predict(val_dict)\n",
    "        \n",
    "        precision = eval_metrics_logs(y_test, y_pred.round())\n",
    "        \n",
    "        # log the pipeline\n",
    "        mlflow.sklearn.log_model(pipeline, artifact_path=\"model\", signature=signature)\n",
    "        mlflow.xgboost.autolog(disable=True)\n",
    "        \n",
    "    return {'loss': -precision, 'status': STATUS_OK}\n",
    "\n",
    "\n",
    "search_space = {\n",
    "    'n_estimators': scope.int(hp.quniform('n_estimators', 50, 80, 10)),\n",
    "    'max_leaves': scope.int(hp.quniform('max_leaves', 1, 100, 10)),\n",
    "    'min_child_weight': hp.loguniform('min_child_weight', 1.5, 2.5),\n",
    "}\n",
    "\n",
    "best_result = fmin(\n",
    "    fn = xgbc_objective,\n",
    "    space = search_space,\n",
    "    algo = tpe.suggest,\n",
    "    max_evals = 30,\n",
    "    trials = Trials(),\n",
    "    rstate=random_state,\n",
    "    verbose=False\n",
    ")"
   ]
  }
 ],
 "metadata": {
  "kernelspec": {
   "display_name": "ifood_mlops",
   "language": "python",
   "name": "python3"
  },
  "language_info": {
   "codemirror_mode": {
    "name": "ipython",
    "version": 3
   },
   "file_extension": ".py",
   "mimetype": "text/x-python",
   "name": "python",
   "nbconvert_exporter": "python",
   "pygments_lexer": "ipython3",
   "version": "3.9.16"
  }
 },
 "nbformat": 4,
 "nbformat_minor": 2
}

{
 "cells": [
  {
   "cell_type": "code",
   "execution_count": 1,
   "id": "1c564dc8-9278-49b0-bf24-0e5c37261e3a",
   "metadata": {},
   "outputs": [],
   "source": [
    "import pandas as pd\n",
    "from sklearn.model_selection import train_test_split"
   ]
  },
  {
   "cell_type": "code",
   "execution_count": 2,
   "id": "a3247c4b-6199-4751-893c-dba548e4b83e",
   "metadata": {},
   "outputs": [
    {
     "data": {
      "text/html": [
       "<div>\n",
       "<style scoped>\n",
       "    .dataframe tbody tr th:only-of-type {\n",
       "        vertical-align: middle;\n",
       "    }\n",
       "\n",
       "    .dataframe tbody tr th {\n",
       "        vertical-align: top;\n",
       "    }\n",
       "\n",
       "    .dataframe thead th {\n",
       "        text-align: right;\n",
       "    }\n",
       "</style>\n",
       "<table border=\"1\" class=\"dataframe\">\n",
       "  <thead>\n",
       "    <tr style=\"text-align: right;\">\n",
       "      <th></th>\n",
       "      <th>ID</th>\n",
       "      <th>Year_Birth</th>\n",
       "      <th>Education</th>\n",
       "      <th>Marital_Status</th>\n",
       "      <th>Income</th>\n",
       "      <th>Kidhome</th>\n",
       "      <th>Teenhome</th>\n",
       "      <th>Dt_Customer</th>\n",
       "      <th>Recency</th>\n",
       "      <th>MntWines</th>\n",
       "      <th>...</th>\n",
       "      <th>NumWebVisitsMonth</th>\n",
       "      <th>AcceptedCmp3</th>\n",
       "      <th>AcceptedCmp4</th>\n",
       "      <th>AcceptedCmp5</th>\n",
       "      <th>AcceptedCmp1</th>\n",
       "      <th>AcceptedCmp2</th>\n",
       "      <th>Complain</th>\n",
       "      <th>Z_CostContact</th>\n",
       "      <th>Z_Revenue</th>\n",
       "      <th>Response</th>\n",
       "    </tr>\n",
       "  </thead>\n",
       "  <tbody>\n",
       "    <tr>\n",
       "      <th>0</th>\n",
       "      <td>5524</td>\n",
       "      <td>1957</td>\n",
       "      <td>Graduation</td>\n",
       "      <td>Single</td>\n",
       "      <td>58138.0</td>\n",
       "      <td>0</td>\n",
       "      <td>0</td>\n",
       "      <td>2012-09-04</td>\n",
       "      <td>58</td>\n",
       "      <td>635</td>\n",
       "      <td>...</td>\n",
       "      <td>7</td>\n",
       "      <td>0</td>\n",
       "      <td>0</td>\n",
       "      <td>0</td>\n",
       "      <td>0</td>\n",
       "      <td>0</td>\n",
       "      <td>0</td>\n",
       "      <td>3</td>\n",
       "      <td>11</td>\n",
       "      <td>1</td>\n",
       "    </tr>\n",
       "    <tr>\n",
       "      <th>1</th>\n",
       "      <td>2174</td>\n",
       "      <td>1954</td>\n",
       "      <td>Graduation</td>\n",
       "      <td>Single</td>\n",
       "      <td>46344.0</td>\n",
       "      <td>1</td>\n",
       "      <td>1</td>\n",
       "      <td>2014-03-08</td>\n",
       "      <td>38</td>\n",
       "      <td>11</td>\n",
       "      <td>...</td>\n",
       "      <td>5</td>\n",
       "      <td>0</td>\n",
       "      <td>0</td>\n",
       "      <td>0</td>\n",
       "      <td>0</td>\n",
       "      <td>0</td>\n",
       "      <td>0</td>\n",
       "      <td>3</td>\n",
       "      <td>11</td>\n",
       "      <td>0</td>\n",
       "    </tr>\n",
       "  </tbody>\n",
       "</table>\n",
       "<p>2 rows × 29 columns</p>\n",
       "</div>"
      ],
      "text/plain": [
       "     ID  Year_Birth   Education Marital_Status   Income  Kidhome  Teenhome  \\\n",
       "0  5524        1957  Graduation         Single  58138.0        0         0   \n",
       "1  2174        1954  Graduation         Single  46344.0        1         1   \n",
       "\n",
       "  Dt_Customer  Recency  MntWines  ...  NumWebVisitsMonth  AcceptedCmp3  \\\n",
       "0  2012-09-04       58       635  ...                  7             0   \n",
       "1  2014-03-08       38        11  ...                  5             0   \n",
       "\n",
       "   AcceptedCmp4  AcceptedCmp5  AcceptedCmp1  AcceptedCmp2  Complain  \\\n",
       "0             0             0             0             0         0   \n",
       "1             0             0             0             0         0   \n",
       "\n",
       "   Z_CostContact  Z_Revenue  Response  \n",
       "0              3         11         1  \n",
       "1              3         11         0  \n",
       "\n",
       "[2 rows x 29 columns]"
      ]
     },
     "execution_count": 2,
     "metadata": {},
     "output_type": "execute_result"
    }
   ],
   "source": [
    "# load data\n",
    "df = pd.read_csv(\"marketing_campaign.csv\", sep=\";\")\n",
    "df.head(2)"
   ]
  },
  {
   "cell_type": "code",
   "execution_count": 3,
   "id": "5a1be556-82dc-4df6-b417-872ee548fe1e",
   "metadata": {},
   "outputs": [
    {
     "data": {
      "text/plain": [
       "(2240, 29)"
      ]
     },
     "execution_count": 3,
     "metadata": {},
     "output_type": "execute_result"
    }
   ],
   "source": [
    "df.shape"
   ]
  },
  {
   "cell_type": "code",
   "execution_count": 4,
   "id": "efa6f9b0",
   "metadata": {},
   "outputs": [
    {
     "name": "stdout",
     "output_type": "stream",
     "text": [
      "Unique values for Z_CostContact: 3\n",
      "Unique values for Z_Revenue: 11\n"
     ]
    }
   ],
   "source": [
    "# remove irrelevant columns given that they have only a common value\n",
    "print(f\"Unique values for Z_CostContact: {df['Z_CostContact'].unique()[0]}\")\n",
    "print(f\"Unique values for Z_Revenue: {df['Z_Revenue'].unique()[0]}\")\n",
    "\n",
    "df = df.drop(['Z_CostContact', 'Z_Revenue'], axis=1)"
   ]
  },
  {
   "cell_type": "code",
   "execution_count": 5,
   "id": "0632185a",
   "metadata": {},
   "outputs": [
    {
     "data": {
      "text/plain": [
       "(2240, 27)"
      ]
     },
     "execution_count": 5,
     "metadata": {},
     "output_type": "execute_result"
    }
   ],
   "source": [
    "df.shape"
   ]
  },
  {
   "cell_type": "markdown",
   "id": "468bb926-7472-4f20-99c3-e84170dffcda",
   "metadata": {},
   "source": [
    "## Creating the Training, Testing, and Validation Datasets\n",
    "\n",
    "This is dataset with 2240 customer responses towards a marketing campaign whose success rate was only 15%. This already shows an imbalanced dataset but we will just randomly split it into three parts: training, testing, and validation sets."
   ]
  },
  {
   "cell_type": "code",
   "execution_count": 6,
   "id": "09d1909f-0dd4-4403-ac03-90033dc0a82a",
   "metadata": {},
   "outputs": [
    {
     "data": {
      "text/plain": [
       "0    0.850893\n",
       "1    0.149107\n",
       "Name: Response, dtype: float64"
      ]
     },
     "execution_count": 6,
     "metadata": {},
     "output_type": "execute_result"
    }
   ],
   "source": [
    "# check success rate\n",
    "df['Response'].value_counts(normalize=True)"
   ]
  },
  {
   "cell_type": "markdown",
   "id": "9a73ddc1",
   "metadata": {},
   "source": [
    "### Using Scikit-Learn"
   ]
  },
  {
   "cell_type": "code",
   "execution_count": 7,
   "id": "b8c9f53f",
   "metadata": {},
   "outputs": [
    {
     "data": {
      "text/plain": [
       "((2240, 26), (2240,))"
      ]
     },
     "execution_count": 7,
     "metadata": {},
     "output_type": "execute_result"
    }
   ],
   "source": [
    "# get features\n",
    "features = df.drop(['Response'], axis=1)\n",
    "\n",
    "# get target\n",
    "target = df['Response']\n",
    "\n",
    "# check shape\n",
    "features.shape, target.shape"
   ]
  },
  {
   "cell_type": "code",
   "execution_count": 8,
   "id": "bcf0e214",
   "metadata": {},
   "outputs": [
    {
     "name": "stdout",
     "output_type": "stream",
     "text": [
      "(1904, 26) (252, 26) (84, 26) (336, 26)\n",
      "(1904,) (252,) (84,) (336,)\n"
     ]
    }
   ],
   "source": [
    "# split data (85%, 11.25%, 3.75%\n",
    "SEED = 0\n",
    "X_train, X_temp, y_train, y_temp = train_test_split(features, target, test_size=0.15, random_state=SEED)\n",
    "X_test, X_val, y_test, y_val = train_test_split(X_temp, y_temp, test_size=0.25, random_state=SEED)\n",
    "\n",
    "print(X_train.shape, X_test.shape, X_val.shape, X_temp.shape)\n",
    "print(y_train.shape, y_test.shape, y_val.shape, y_temp.shape)"
   ]
  },
  {
   "cell_type": "code",
   "execution_count": 9,
   "id": "3e148b15",
   "metadata": {},
   "outputs": [],
   "source": [
    "# save data\n",
    "X_train.to_csv('training_features.csv', index=False)\n",
    "X_test.to_csv('testing_features.csv', index=False)\n",
    "X_val.to_csv('validation_features.csv', index=False)\n",
    "y_train.to_csv('training_targets.csv', index=False)\n",
    "y_test.to_csv('testing_targets.csv', index=False)\n",
    "y_val.to_csv('validation_targets.csv', index=False)"
   ]
  },
  {
   "cell_type": "markdown",
   "id": "43b5aab1",
   "metadata": {},
   "source": [
    "### For a Balanced Dataset\n",
    "\n",
    "Though the results tend to be poor"
   ]
  },
  {
   "cell_type": "code",
   "execution_count": 10,
   "id": "c00167da-16fe-4b01-a0be-775d2bf935de",
   "metadata": {},
   "outputs": [],
   "source": [
    "\n",
    "def split_data(original_df, num_0, num_1):\n",
    "    # get each response value\n",
    "    response_0 = original_df[original_df['Response']==0]\n",
    "    response_1 = original_df[original_df['Response']==1]\n",
    "    \n",
    "    # randomly split based on the response values\n",
    "    response_0 = response_0.sample(n=num_0, random_state=SEED)\n",
    "    response_1 = response_1.sample(n=num_1, random_state=SEED)\n",
    "    \n",
    "    # join then shuffle the data \n",
    "    train_df = pd.concat([response_0, response_1])\n",
    "    train_df = train_df.sample(frac=1, random_state=SEED)\n",
    "    df1_count = train_df['Response'].value_counts().to_list()\n",
    "    print(f\"\"\"first df\n",
    "    response 0 values: {df1_count[0]} \n",
    "    response 1 values: {df1_count[1]}\n",
    "    \"\"\")\n",
    "\n",
    "    # get remaining data\n",
    "    remaining_df = original_df.drop(train_df.index)\n",
    "    df2_count = remaining_df['Response'].value_counts().to_list()\n",
    "    print(f\"\"\"second df\n",
    "    response 0 values: {df2_count[0]} \n",
    "    response 1 values: {df2_count[1]}\n",
    "    \"\"\")\n",
    "\n",
    "    # check if duplication of indices occurs\n",
    "    print(f\"duplicate indices: {sum(train_df.index.isin(remaining_df))}\")\n",
    "        \n",
    "    return train_df, remaining_df"
   ]
  },
  {
   "cell_type": "code",
   "execution_count": 11,
   "id": "8aae9cf1-410d-47b8-8f32-30cdf85ecfb3",
   "metadata": {},
   "outputs": [
    {
     "name": "stdout",
     "output_type": "stream",
     "text": [
      "first df\n",
      "    response 0 values: 200 \n",
      "    response 1 values: 200\n",
      "    \n",
      "second df\n",
      "    response 0 values: 1706 \n",
      "    response 1 values: 134\n",
      "    \n",
      "duplicate indices: 0\n"
     ]
    }
   ],
   "source": [
    "# split the ifood dataset to get an equally balanced training data\n",
    "train_df, remaining_df1 = split_data(df, 200, 200)"
   ]
  },
  {
   "cell_type": "code",
   "execution_count": 12,
   "id": "52eb51e2-e5fd-445c-8489-b4ad2a6e6602",
   "metadata": {},
   "outputs": [
    {
     "name": "stdout",
     "output_type": "stream",
     "text": [
      "first df\n",
      "    response 0 values: 580 \n",
      "    response 1 values: 51\n",
      "    \n",
      "second df\n",
      "    response 0 values: 1126 \n",
      "    response 1 values: 83\n",
      "    \n",
      "duplicate indices: 0\n"
     ]
    }
   ],
   "source": [
    "# we then get out testing dataset from the remaining dataset\n",
    "test_df, remaining_df2 = split_data(remaining_df1, 580, 51)"
   ]
  },
  {
   "cell_type": "code",
   "execution_count": 13,
   "id": "2a213a44-ebde-400d-a4a0-4b28c56e1d96",
   "metadata": {},
   "outputs": [
    {
     "name": "stdout",
     "output_type": "stream",
     "text": [
      "first df\n",
      "    response 0 values: 563 \n",
      "    response 1 values: 43\n",
      "    \n",
      "second df\n",
      "    response 0 values: 563 \n",
      "    response 1 values: 40\n",
      "    \n",
      "duplicate indices: 0\n"
     ]
    }
   ],
   "source": [
    "# finally, we get two validation datasets\n",
    "val_df1, val_df2 = split_data(remaining_df2, 563, 43)"
   ]
  },
  {
   "cell_type": "code",
   "execution_count": 14,
   "id": "3c9b0c85-6d3c-43bf-9418-33dec3681076",
   "metadata": {},
   "outputs": [],
   "source": [
    "# saving the datasets\n",
    "\n",
    "# train_df.to_csv(\"data/train_df.csv\", index=False)\n",
    "# test_df.to_csv(\"data/test_df.csv\", index=False)\n",
    "# val_df1.to_csv(\"data/val_df1.csv\", index=False)\n",
    "# val_df2.to_csv(\"data/val_df2.csv\", index=False)"
   ]
  }
 ],
 "metadata": {
  "kernelspec": {
   "display_name": "Python 3 (ipykernel)",
   "language": "python",
   "name": "python3"
  },
  "language_info": {
   "codemirror_mode": {
    "name": "ipython",
    "version": 3
   },
   "file_extension": ".py",
   "mimetype": "text/x-python",
   "name": "python",
   "nbconvert_exporter": "python",
   "pygments_lexer": "ipython3",
   "version": "3.9.16"
  }
 },
 "nbformat": 4,
 "nbformat_minor": 5
}
